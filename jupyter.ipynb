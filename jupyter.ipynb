{
 "cells": [
  {
   "cell_type": "markdown",
   "id": "3447e98c-dc78-4ff5-bd5c-46925d550f6b",
   "metadata": {},
   "source": [
    " ## Jupyter\n",
    "\n",
    "- What is Jupyter?\n",
    "- What is Jupyter notebook?\n",
    "- What is JupyterLab?\n",
    "\n"
   ]
  },
  {
   "cell_type": "markdown",
   "id": "ed4ce7fd-900a-4219-8451-98ec5823c72c",
   "metadata": {},
   "source": [
    "### References\n",
    "- [Project Jupyter](https://jupyter.org/)\n",
    "- [The Jupyter Notebook documentation](https://jupyter-notebook.readthedocs.io/en/stable/)\n",
    "- [JupyterLab Documentation](https://jupyterlab.readthedocs.io/en/stable/)\n"
   ]
  },
  {
   "cell_type": "code",
   "execution_count": null,
   "id": "a3c36e57-66f5-4509-977a-c55d8d986435",
   "metadata": {},
   "outputs": [],
   "source": []
  }
 ],
 "metadata": {
  "kernelspec": {
   "display_name": "Python 3 (ipykernel)",
   "language": "python",
   "name": "python3"
  },
  "language_info": {
   "codemirror_mode": {
    "name": "ipython",
    "version": 3
   },
   "file_extension": ".py",
   "mimetype": "text/x-python",
   "name": "python",
   "nbconvert_exporter": "python",
   "pygments_lexer": "ipython3",
   "version": "3.10.5"
  }
 },
 "nbformat": 4,
 "nbformat_minor": 5
}
