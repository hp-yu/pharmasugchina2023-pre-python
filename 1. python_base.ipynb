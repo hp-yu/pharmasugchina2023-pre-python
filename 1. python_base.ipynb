{
 "cells": [
  {
   "cell_type": "markdown",
   "id": "reported-trade",
   "metadata": {},
   "source": [
    "# Python\n",
    "* 语法贴近人类字然语言，Python的语法设计简洁直观，类似于英语，易于学习和使用，使得初学者能够快速上手。\n",
    "* 动态类型：Python是一种动态类型语言，不需要显式声明变量的类型，可以根据赋值来自动确定变量的数据类型。\n",
    "* 高级数据结构：Python提供了丰富的数据结构，如列表、元组、字典、集合等，使得数据处理和操控更加方便。\n",
    "* Python拥有广泛且功能强大的标准库，涵盖了网络编程、文件操作、文本处理、图形界面、数据处理等方面，为开发者提供了许多现成的模块和工具。同时提供了大量的第三方库和框架，用于数据科学、机器学习、Web开发、游戏开发等领域。\n",
    "* 面向对象：Python是一种面向对象的编程语言，支持面向对象的编程范式。\n",
    "\n",
    "Python的多样性和简洁性使其成为适用于各种不同应用领域的理想选择。由于其广泛的应用和强大的社区支持，Python在科学、工程、数据分析和软件开发等领域都取得了广泛的成功。"
   ]
  },
  {
   "cell_type": "markdown",
   "id": "protecting-notification",
   "metadata": {},
   "source": [
    "## Python的数据结构\n",
    "* 一些基础的数据结构\n",
    "1. Number(数字)\n",
    "2. String(字符串)"
   ]
  },
  {
   "cell_type": "code",
   "execution_count": 1,
   "id": "ideal-toolbox",
   "metadata": {},
   "outputs": [
    {
     "name": "stdout",
     "output_type": "stream",
     "text": [
      "Hellow World!\n",
      "100\n",
      "0.1\n"
     ]
    },
    {
     "data": {
      "text/plain": [
       "int"
      ]
     },
     "execution_count": 1,
     "metadata": {},
     "output_type": "execute_result"
    }
   ],
   "source": [
    "a='Hellow World!'\n",
    "b=100\n",
    "c=0.1\n",
    "print(a)\n",
    "print(b)\n",
    "print(c)\n",
    "type(b)"
   ]
  },
  {
   "cell_type": "markdown",
   "id": "devoted-handy",
   "metadata": {},
   "source": [
    "3. list(列表)\n",
    "\n",
    "用方括号组织起来，每个元素用逗号隔开，每个元素可以是任意类型的内容"
   ]
  },
  {
   "cell_type": "code",
   "execution_count": 2,
   "id": "beneficial-sleep",
   "metadata": {},
   "outputs": [],
   "source": [
    "# 例子\n",
    "lst_a=[]\n",
    "lst_a=[1,2,3,4,5]\n",
    "lst_a=['a','b','c']\n",
    "lst_a=['a',1,['a','b','c']]"
   ]
  },
  {
   "cell_type": "code",
   "execution_count": 3,
   "id": "forbidden-punishment",
   "metadata": {},
   "outputs": [
    {
     "data": {
      "text/plain": [
       "[0, 1, 2, 3, 4]"
      ]
     },
     "execution_count": 3,
     "metadata": {},
     "output_type": "execute_result"
    }
   ],
   "source": [
    "# 推导式\n",
    "[i for i in range(5)]"
   ]
  },
  {
   "cell_type": "code",
   "execution_count": 4,
   "id": "legitimate-samoa",
   "metadata": {},
   "outputs": [
    {
     "data": {
      "text/plain": [
       "['No.0', 'No.1', 'No.2', 'No.3', 'No.4']"
      ]
     },
     "execution_count": 4,
     "metadata": {},
     "output_type": "execute_result"
    }
   ],
   "source": [
    "#处理列表每个元素\n",
    "['No.'+str(i) for i in range(5)]"
   ]
  },
  {
   "cell_type": "code",
   "execution_count": 5,
   "id": "automated-serum",
   "metadata": {},
   "outputs": [
    {
     "data": {
      "text/plain": [
       "['No.3', 'No.4']"
      ]
     },
     "execution_count": 5,
     "metadata": {},
     "output_type": "execute_result"
    }
   ],
   "source": [
    "#加条件\n",
    "['No.'+str(i) for i in range(5) if i >2]"
   ]
  },
  {
   "cell_type": "markdown",
   "id": "european-luxury",
   "metadata": {},
   "source": [
    "4. dict(字典)\n",
    "\n",
    "用花括号组织起来，由键值对组成，用逗号隔开"
   ]
  },
  {
   "cell_type": "code",
   "execution_count": 6,
   "id": "german-permission",
   "metadata": {},
   "outputs": [],
   "source": [
    "# 例子\n",
    "dict_a={}\n",
    "dict_p1={'name':'Tom', 'age':18, 'height': 180}"
   ]
  },
  {
   "cell_type": "code",
   "execution_count": 7,
   "id": "adaptive-parallel",
   "metadata": {},
   "outputs": [
    {
     "data": {
      "text/plain": [
       "18"
      ]
     },
     "execution_count": 7,
     "metadata": {},
     "output_type": "execute_result"
    }
   ],
   "source": [
    "# 访问字典\n",
    "dict_p1['age']"
   ]
  },
  {
   "cell_type": "markdown",
   "id": "sound-shanghai",
   "metadata": {},
   "source": [
    "## 判断和循环"
   ]
  },
  {
   "cell_type": "code",
   "execution_count": 8,
   "id": "cognitive-survivor",
   "metadata": {},
   "outputs": [
    {
     "data": {
      "text/plain": [
       "False"
      ]
     },
     "execution_count": 8,
     "metadata": {},
     "output_type": "execute_result"
    }
   ],
   "source": [
    "# 判断(==,！=)\n",
    "b!=100"
   ]
  },
  {
   "cell_type": "code",
   "execution_count": 9,
   "id": "structured-billion",
   "metadata": {},
   "outputs": [
    {
     "name": "stdout",
     "output_type": "stream",
     "text": [
      "not exist\n"
     ]
    }
   ],
   "source": [
    "# 条件\n",
    "if 'd' in ['a','b','c']:\n",
    "    print('exist')\n",
    "else:\n",
    "    print('not exist')"
   ]
  },
  {
   "cell_type": "code",
   "execution_count": 10,
   "id": "listed-trader",
   "metadata": {},
   "outputs": [
    {
     "name": "stdout",
     "output_type": "stream",
     "text": [
      "10011001\n",
      "10011002\n",
      "10011003\n"
     ]
    }
   ],
   "source": [
    "# 循环\n",
    "# list循环\n",
    "lst_subject=['10011001','10011002','10011003']\n",
    "for subject in lst_subject:\n",
    "    print(subject)"
   ]
  },
  {
   "cell_type": "code",
   "execution_count": 11,
   "id": "tender-professor",
   "metadata": {},
   "outputs": [
    {
     "name": "stdout",
     "output_type": "stream",
     "text": [
      "M\n"
     ]
    }
   ],
   "source": [
    "# dict循环\n",
    "dict_sex={'10011001':'M',\n",
    "          '10011002':'F',\n",
    "          '10011003':'M',\n",
    "          '10011004':'M',\n",
    "          '10011005':'F',}\n",
    "for k,v in dict_sex.items():\n",
    "    if k == '10011001':\n",
    "        # print(k)\n",
    "        # print(v)\n",
    "        print(dict_sex[k])"
   ]
  },
  {
   "cell_type": "code",
   "execution_count": null,
   "id": "29a99e84-63ad-4a6d-8396-6751d8158f6a",
   "metadata": {},
   "outputs": [],
   "source": []
  }
 ],
 "metadata": {
  "kernelspec": {
   "display_name": "Python 3 (ipykernel)",
   "language": "python",
   "name": "python3"
  },
  "language_info": {
   "codemirror_mode": {
    "name": "ipython",
    "version": 3
   },
   "file_extension": ".py",
   "mimetype": "text/x-python",
   "name": "python",
   "nbconvert_exporter": "python",
   "pygments_lexer": "ipython3",
   "version": "3.9.8"
  }
 },
 "nbformat": 4,
 "nbformat_minor": 5
}
