{
 "cells": [
  {
   "cell_type": "markdown",
   "id": "2534d793-d132-4947-a347-aa8bc91f5c56",
   "metadata": {},
   "source": [
    "# Markdown Cells\n",
    "Text can be added to Jupyter Notebooks using Markdown cells. You can change the cell type to Markdown by using the Cell menu, the toolbar, or the key shortcut m. Markdown is a popular markup language that is a superset of HTML. "
   ]
  },
  {
   "cell_type": "markdown",
   "id": "98e91e7e-d486-40ed-9f39-8a865c1c5ba4",
   "metadata": {},
   "source": [
    "## list\n",
    "You can make text italic or bold by surrounding a block of text with a single or double * respectively\n",
    "\n",
    "You can build nested itemized or enumerated lists:"
   ]
  },
  {
   "cell_type": "markdown",
   "id": "cb95fd8b-0dc4-4060-9ae0-8ca12510bfba",
   "metadata": {},
   "source": [
    "* One \n",
    "    * Sublist \n",
    "        * This\n",
    "* Sublist - That - The other thing\n",
    "* Two\n",
    "* Sublist\n",
    "* Three\n",
    "* Sublist"
   ]
  },
  {
   "cell_type": "markdown",
   "id": "e6af3c01-2ec4-42b3-bbe5-e62ac1586800",
   "metadata": {},
   "source": [
    "1. Here we go\n",
    "    1. Sublist\n",
    "    2. Sublist\n",
    "1. There we go\n",
    "1. Now this"
   ]
  },
  {
   "cell_type": "markdown",
   "id": "1fdf07f2-3fe1-40d4-a550-9aa01ccb738a",
   "metadata": {},
   "source": [
    "- Use a minus sign for a bullet\n",
    "+ Or plus sign\n",
    "* Or an asterisk"
   ]
  },
  {
   "cell_type": "markdown",
   "id": "86d07ce2-acd6-430f-b10b-c5578fd3343f",
   "metadata": {},
   "source": [
    "### You can add horizontal rules:"
   ]
  },
  {
   "cell_type": "markdown",
   "id": "8fbdb3e0-af5f-4f1a-a0b9-365032848248",
   "metadata": {},
   "source": [
    "---"
   ]
  },
  {
   "cell_type": "markdown",
   "id": "88aab668-9f5e-4c48-8d16-bf140a289d2f",
   "metadata": {},
   "source": [
    "Here is a blockquote:"
   ]
  },
  {
   "cell_type": "markdown",
   "id": "77286424-f60d-4029-a379-217d29944d1c",
   "metadata": {},
   "source": [
    "> Beautiful is better than ugly. Explicit is better than implicit. Simple is better than complex.\n",
    "> Complex is better than complicated. Flat is better than nested. Sparse is better than dense.\n",
    "> Readability counts. Special cases aren’t special enough to break the rules. Although practicality\n",
    "> beats purity. Errors should never pass silently. Unless explicitly silenced. In the face of\n",
    "> ambiguity, refuse the temptation to guess. There should be one– and preferably only one –\n",
    "> obvious way to do it. Although that way may not be obvious at first unless you’re Dutch. Now is\n",
    "> better than never. Although never is often better than right now. If the implementation is hard to\n",
    "> explain, it’s a bad idea. If the implementation is easy to explain, it may be a good idea.\n",
    "> Namespaces are one honking great idea – let’s do more of those!"
   ]
  },
  {
   "cell_type": "markdown",
   "id": "3aff13e9-08d3-4182-9ebe-dccd81e864b1",
   "metadata": {},
   "source": [
    "You can use backslash  to generate literal characters which would otherwise have special meaning in the Markdown syntax."
   ]
  },
  {
   "cell_type": "markdown",
   "id": "7500f416-89f6-480b-b153-3773f6d2fffe",
   "metadata": {},
   "source": [
    "<i>This is italic text </i>\n",
    "*This is italic text\n",
    "_This is italic text"
   ]
  },
  {
   "cell_type": "markdown",
   "id": "fb88ed3b-3c98-4550-a2c2-028e44245dd9",
   "metadata": {},
   "source": [
    "### Headings\n",
    "You can add headings by starting a line with one (or multiple) # followed by a space, as in the following example:"
   ]
  },
  {
   "cell_type": "markdown",
   "id": "e0060be0-860b-4f67-87a4-a73f5296f55c",
   "metadata": {},
   "source": [
    "# Heading 1\n",
    "# Heading 2\n",
    "## Heading 2.1\n",
    "## Heading 2.2"
   ]
  },
  {
   "cell_type": "markdown",
   "id": "b2579e80-8bce-4f29-a977-6ab22ef1fc65",
   "metadata": {},
   "source": [
    "## Embedded code\n",
    "ou can embed code meant for illustration instead of execution in Python:"
   ]
  },
  {
   "cell_type": "markdown",
   "id": "ed7c4046-68c9-45e3-84b0-20d5135751f6",
   "metadata": {},
   "source": [
    "```python\n",
    "def f(x):\n",
    "    \"\"\"a docstring\"\"\"\n",
    "    return x**2\n",
    "```"
   ]
  },
  {
   "cell_type": "markdown",
   "id": "801479e6-35e4-4c47-be9f-69a0e3959ef7",
   "metadata": {},
   "source": [
    "or other languages:"
   ]
  },
  {
   "cell_type": "markdown",
   "id": "5b2bfb20-556e-40ec-a21d-21e17f7c6c1b",
   "metadata": {
    "tags": []
   },
   "source": [
    "```javascript\n",
    "for (i=0; i<n; i++) {\n",
    "  printf(\"hello %d\\n\", i);\n",
    "  x += 4;\n",
    "}\n",
    "```"
   ]
  },
  {
   "cell_type": "markdown",
   "id": "f3bc3b56-42c3-4f7e-bacd-8bcab00df971",
   "metadata": {},
   "source": [
    "```sql\n",
    "SELECT total_bill, tip, smoker, time\n",
    "FROM tips;\n",
    "```"
   ]
  },
  {
   "cell_type": "markdown",
   "id": "d4e807a2-1b82-41e2-8929-ee2e282db55a",
   "metadata": {},
   "source": [
    "```sas\n",
    "data df;\n",
    "    input x y;\n",
    "    datalines;\n",
    "    1 2\n",
    "    3 4\n",
    "    5 6\n",
    "    ;\n",
    "run;\n",
    "\n",
    "```"
   ]
  },
  {
   "cell_type": "markdown",
   "id": "537bd3f2-6712-46cb-8ab0-f3addbb8c6df",
   "metadata": {},
   "source": [
    "## LaTeX equations\n",
    "Courtesy of MathJax, you can include mathematical expressions both inline and displayd:\n",
    "Inline expressions can be added by surrounding the latex code with $:"
   ]
  },
  {
   "cell_type": "markdown",
   "id": "6ff0a33f-61d1-4c07-b076-4f75fa52cb0b",
   "metadata": {},
   "source": [
    "$e^{i\\pi} + 1 = 0$"
   ]
  },
  {
   "cell_type": "markdown",
   "id": "80c932c8-3b47-4565-968c-0c27b4ee135e",
   "metadata": {},
   "source": [
    "Expressions on their own line are surrounded by \\\\begin{equation} and \\\\end{equation}:"
   ]
  },
  {
   "cell_type": "markdown",
   "id": "6150bf8b-dc66-41ef-a52a-927b68ae75f8",
   "metadata": {},
   "source": [
    "\\begin{equation}\n",
    "e^x=\\sum_{i=0}^\\infty \\frac{1}{i!}x^i\n",
    "\\end{equation}"
   ]
  },
  {
   "cell_type": "markdown",
   "id": "681354e8-68a8-4017-8cc6-471e6d544c78",
   "metadata": {},
   "source": [
    "## table "
   ]
  },
  {
   "cell_type": "markdown",
   "id": "cea88a9e-fcdd-49de-8407-52c8bf6be40b",
   "metadata": {},
   "source": [
    "| This | is   |\n",
    "|------|------|\n",
    "|   a  | table|"
   ]
  },
  {
   "cell_type": "markdown",
   "id": "6480a8c0-2ec1-43a7-a253-d135ebdb4a3a",
   "metadata": {},
   "source": [
    "## General HTML"
   ]
  },
  {
   "cell_type": "markdown",
   "id": "1b43b26c-4b68-496b-a97a-dee6dc0e9106",
   "metadata": {},
   "source": [
    "<h1>Header 1</h1>"
   ]
  },
  {
   "cell_type": "markdown",
   "id": "eb357678-36d8-42ad-b4ac-a404ce007cf2",
   "metadata": {},
   "source": [
    "## Local files"
   ]
  },
  {
   "cell_type": "markdown",
   "id": "180c0a89-6aa6-4ce6-9908-438a8d961bb6",
   "metadata": {},
   "source": [
    "![stinkbug](./picture/stinkbug.webp)"
   ]
  },
  {
   "cell_type": "markdown",
   "id": "e1ab44d9-8d19-44fa-a551-855b251535f0",
   "metadata": {},
   "source": [
    "![driving_scene_segmentation](./picture/thumb_driving_scene_segmentation.gif)"
   ]
  },
  {
   "cell_type": "markdown",
   "id": "2f2ed2e9-4759-4c0f-92ce-2931ea11ab7e",
   "metadata": {},
   "source": [
    "## References\n",
    "\n",
    "- [Markdown Cells — Jupyter Notebook 6.4.12 documentation (jupyter-notebook.readthedocs.io)](https://jupyter-notebook.readthedocs.io/en/stable/examples/Notebook/Working%20With%20Markdown%20Cells.html)"
   ]
  },
  {
   "cell_type": "markdown",
   "id": "a6a49e0c-f02b-40ba-88bb-4968822cbd05",
   "metadata": {},
   "source": []
  }
 ],
 "metadata": {
  "kernelspec": {
   "display_name": "Python 3 (ipykernel)",
   "language": "python",
   "name": "python3"
  },
  "language_info": {
   "codemirror_mode": {
    "name": "ipython",
    "version": 3
   },
   "file_extension": ".py",
   "mimetype": "text/x-python",
   "name": "python",
   "nbconvert_exporter": "python",
   "pygments_lexer": "ipython3",
   "version": "3.10.5"
  }
 },
 "nbformat": 4,
 "nbformat_minor": 5
}
