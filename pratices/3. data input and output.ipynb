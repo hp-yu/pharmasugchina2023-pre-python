{
 "cells": [
  {
   "cell_type": "markdown",
   "id": "contained-repair",
   "metadata": {},
   "source": [
    "# Data input/output\n",
    "* read excel/csv/sas dataset\n",
    "* export excel\n",
    "* xlsxwriter\n"
   ]
  },
  {
   "cell_type": "code",
   "execution_count": null,
   "id": "fluid-whole",
   "metadata": {
    "tags": []
   },
   "outputs": [],
   "source": [
    "import pandas as pd\n",
    "import numpy as np"
   ]
  },
  {
   "cell_type": "code",
   "execution_count": null,
   "id": "fourth-whale",
   "metadata": {},
   "outputs": [],
   "source": [
    "# read excel\n"
   ]
  },
  {
   "cell_type": "code",
   "execution_count": null,
   "id": "applicable-maryland",
   "metadata": {
    "tags": []
   },
   "outputs": [],
   "source": [
    "# read csv\n"
   ]
  },
  {
   "cell_type": "code",
   "execution_count": null,
   "id": "characteristic-preference",
   "metadata": {},
   "outputs": [],
   "source": [
    "# read sas\n",
    "from sas7bdat import SAS7BDAT\n"
   ]
  },
  {
   "cell_type": "code",
   "execution_count": null,
   "id": "developing-dragon",
   "metadata": {},
   "outputs": [],
   "source": [
    "# mete data info: f.header\n"
   ]
  },
  {
   "cell_type": "code",
   "execution_count": null,
   "id": "2aa60784-50ec-4f4a-9864-fa7169e6b6cb",
   "metadata": {},
   "outputs": [],
   "source": [
    "dir(f)"
   ]
  },
  {
   "cell_type": "code",
   "execution_count": null,
   "id": "infectious-shirt",
   "metadata": {},
   "outputs": [],
   "source": [
    "# output excel\n"
   ]
  },
  {
   "cell_type": "code",
   "execution_count": null,
   "id": "fewer-coffee",
   "metadata": {},
   "outputs": [],
   "source": [
    "# loop output excel\n"
   ]
  },
  {
   "cell_type": "markdown",
   "id": "solid-aggregate",
   "metadata": {},
   "source": [
    "# xlsxwriter\n",
    "https://xlsxwriter.readthedocs.io/index.html"
   ]
  },
  {
   "cell_type": "code",
   "execution_count": null,
   "id": "southern-tablet",
   "metadata": {},
   "outputs": [],
   "source": []
  }
 ],
 "metadata": {
  "kernelspec": {
   "display_name": "Python 3 (ipykernel)",
   "language": "python",
   "name": "python3"
  },
  "language_info": {
   "codemirror_mode": {
    "name": "ipython",
    "version": 3
   },
   "file_extension": ".py",
   "mimetype": "text/x-python",
   "name": "python",
   "nbconvert_exporter": "python",
   "pygments_lexer": "ipython3",
   "version": "3.9.8"
  }
 },
 "nbformat": 4,
 "nbformat_minor": 5
}
