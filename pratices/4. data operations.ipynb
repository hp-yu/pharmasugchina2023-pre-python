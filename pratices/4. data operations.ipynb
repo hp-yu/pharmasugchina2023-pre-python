{
 "cells": [
  {
   "cell_type": "markdown",
   "id": "bulgarian-kruger",
   "metadata": {
    "tags": []
   },
   "source": [
    "# Data operations\n",
    "* Disk vs memory\n",
    "* Filtering\n",
    "* Selection of columns\n",
    "    * Keep/Drop/Rename\n",
    "    * Sorting by values   \n",
    "* Merging    \n",
    "* Operations on columns\n",
    "    * If/then logic \n",
    "    * map\n",
    "    * String processing\n",
    "    * Date functionality \n",
    "* Missing data    \n",
    "* GroupBy\n",
    "    * Aggregation\n",
    "    * Transformation"
   ]
  },
  {
   "cell_type": "markdown",
   "id": "going-excess",
   "metadata": {},
   "source": [
    "## Disk vs memory\n",
    "\n",
    "pandas operates exclusively in memory, where a SAS data set exists on disk. This means that the size of data able to be loaded in pandas is limited by your machine’s memory, but also that the operations on that data may be faster.\n",
    "\n",
    "If out of core processing is needed, one possibility is the dask.dataframe library (currently in development) which provides a subset of pandas functionality for an on-disk DataFrame"
   ]
  },
  {
   "cell_type": "markdown",
   "id": "charitable-fellowship",
   "metadata": {},
   "source": [
    "## Read source"
   ]
  },
  {
   "cell_type": "code",
   "execution_count": null,
   "id": "chinese-average",
   "metadata": {},
   "outputs": [],
   "source": [
    "import pandas as pd\n",
    "import numpy as np"
   ]
  },
  {
   "cell_type": "code",
   "execution_count": null,
   "id": "wound-ridge",
   "metadata": {},
   "outputs": [],
   "source": [
    "## Import data source\n",
    "dict_source={'AE':'ae.csv','DM':'dm.csv','DS':'ds.csv','EX':'ex.csv','LB':'lb.csv',}\n",
    "for k,v in dict_source.items():\n",
    "    globals()['df_'+k]=pd.read_csv('./data/data_operation_source/'+v)                              "
   ]
  },
  {
   "cell_type": "code",
   "execution_count": null,
   "id": "expected-chart",
   "metadata": {},
   "outputs": [],
   "source": [
    "#print\n",
    "df_LB.head()"
   ]
  },
  {
   "cell_type": "code",
   "execution_count": null,
   "id": "renewable-glossary",
   "metadata": {},
   "outputs": [],
   "source": [
    "# dtypes\n",
    "df_LB.dtypes"
   ]
  },
  {
   "cell_type": "markdown",
   "id": "furnished-helping",
   "metadata": {},
   "source": [
    "## Filtering"
   ]
  },
  {
   "cell_type": "raw",
   "id": "resistant-management",
   "metadata": {},
   "source": [
    "# sas code \n",
    "data BILI;\n",
    "    set WORK.LB;\n",
    "    if LBTESTCD = BILI;\n",
    "run;\n",
    "\n",
    "data BILI;\n",
    "    set BILI;\n",
    "    where LBORRES > 1;\n",
    "    /* equivalent in this case - where happens before the\n",
    "       DATA step begins and can also be used in PROC statements */\n",
    "run;"
   ]
  },
  {
   "cell_type": "code",
   "execution_count": null,
   "id": "greatest-toyota",
   "metadata": {},
   "outputs": [],
   "source": [
    "# Filtering\n"
   ]
  },
  {
   "cell_type": "markdown",
   "id": "adopted-parcel",
   "metadata": {},
   "source": [
    "## Selection of columns\n",
    "### Keep"
   ]
  },
  {
   "cell_type": "raw",
   "id": "union-paradise",
   "metadata": {},
   "source": [
    "# sas code \n",
    "data BILI;\n",
    "    set BILI;\n",
    "    keep USUBJID LBTESTCD LBTEST LBORRES LBORNRLO LBORNRHI;\n",
    "run;"
   ]
  },
  {
   "cell_type": "code",
   "execution_count": null,
   "id": "swiss-tender",
   "metadata": {},
   "outputs": [],
   "source": [
    "# keep USUBJID LBTESTCD LBTEST LBORRES LBORNRLO LBORNRHI\n"
   ]
  },
  {
   "cell_type": "markdown",
   "id": "continuing-marking",
   "metadata": {},
   "source": [
    "### Drop"
   ]
  },
  {
   "cell_type": "raw",
   "id": "wound-template",
   "metadata": {},
   "source": [
    "# sas code \n",
    "data BILI;\n",
    "    set BILI;\n",
    "    drop LBTEST;\n",
    "run;"
   ]
  },
  {
   "cell_type": "code",
   "execution_count": null,
   "id": "cross-scratch",
   "metadata": {},
   "outputs": [],
   "source": [
    "# drop LBTEST\n"
   ]
  },
  {
   "cell_type": "markdown",
   "id": "above-enhancement",
   "metadata": {},
   "source": [
    "### Rename"
   ]
  },
  {
   "cell_type": "raw",
   "id": "prerequisite-momentum",
   "metadata": {},
   "source": [
    "# rename\n",
    "data BILI;\n",
    "    set BILI;\n",
    "    rename LBORRES=BILI;\n",
    "run;"
   ]
  },
  {
   "cell_type": "code",
   "execution_count": null,
   "id": "proof-preference",
   "metadata": {},
   "outputs": [],
   "source": [
    "# rename 'LBORRES':'BILI'\n"
   ]
  },
  {
   "cell_type": "markdown",
   "id": "forty-techno",
   "metadata": {},
   "source": [
    "### Sorting by values"
   ]
  },
  {
   "cell_type": "raw",
   "id": "accepting-outside",
   "metadata": {},
   "source": [
    "# sas code \n",
    "proc sort data=BILI;\n",
    "    by USUBJID BILI;\n",
    "run;"
   ]
  },
  {
   "cell_type": "code",
   "execution_count": null,
   "id": "confident-turkey",
   "metadata": {},
   "outputs": [],
   "source": [
    "# Sorting by USUBJID BILI\n"
   ]
  },
  {
   "cell_type": "raw",
   "id": "colonial-alfred",
   "metadata": {},
   "source": []
  },
  {
   "cell_type": "raw",
   "id": "alive-advertiser",
   "metadata": {},
   "source": [
    "# sas code \n",
    "proc sort data=BILI;\n",
    "    by USUBJID;\n",
    "run;\n",
    "\n",
    "proc sort data=DM;\n",
    "    by USUBJID;\n",
    "run;\n",
    "\n",
    "data left_join inner_join right_join outer_join;\n",
    "    merge BILI(in=a) DM(in=b);\n",
    "    if a and b then output inner_join;\n",
    "    if a then output left_join;\n",
    "    if b then output right_join;\n",
    "    if a or b then output outer_join;\n",
    "run;"
   ]
  },
  {
   "cell_type": "code",
   "execution_count": null,
   "id": "useful-forward",
   "metadata": {},
   "outputs": [],
   "source": [
    "# left join SEX,BRTHDTC    \n"
   ]
  },
  {
   "cell_type": "markdown",
   "id": "institutional-industry",
   "metadata": {},
   "source": [
    "## Operations on columns"
   ]
  },
  {
   "cell_type": "markdown",
   "id": "starting-confusion",
   "metadata": {},
   "source": [
    "### If/then logic"
   ]
  },
  {
   "cell_type": "raw",
   "id": "junior-benefit",
   "metadata": {},
   "source": [
    "# sas code \n",
    "data tips;\n",
    "    set tips;\n",
    "    format flag $4.;\n",
    "\n",
    "    if BILI < LBORNRLO then flag = 'low';\n",
    "    else if BILI > LBORNRHI then flag = 'high';\n",
    "run;"
   ]
  },
  {
   "cell_type": "code",
   "execution_count": null,
   "id": "tired-swaziland",
   "metadata": {},
   "outputs": [],
   "source": [
    "# df_BILI_flag\n"
   ]
  },
  {
   "cell_type": "markdown",
   "id": "annoying-caribbean",
   "metadata": {},
   "source": [
    "### map"
   ]
  },
  {
   "cell_type": "code",
   "execution_count": null,
   "id": "iraqi-gross",
   "metadata": {},
   "outputs": [],
   "source": [
    "# drop_duplicates['LBTEST']\n"
   ]
  },
  {
   "cell_type": "code",
   "execution_count": null,
   "id": "proprietary-standard",
   "metadata": {},
   "outputs": [],
   "source": [
    "# dict_map\n"
   ]
  },
  {
   "cell_type": "code",
   "execution_count": null,
   "id": "egyptian-cream",
   "metadata": {},
   "outputs": [],
   "source": [
    "# map LBTEST_DECODE\n"
   ]
  },
  {
   "cell_type": "markdown",
   "id": "collaborative-causing",
   "metadata": {},
   "source": [
    "### String processing"
   ]
  },
  {
   "cell_type": "code",
   "execution_count": null,
   "id": "latin-domain",
   "metadata": {},
   "outputs": [],
   "source": [
    "# change the string column in df_LBTEST\n",
    "# df_str_proc: \n",
    "df_str_proc=df_LBTEST.copy()\n",
    "# string combine: USUBJID+LBTEST_DECODE\n",
    "\n",
    "# upcase\n",
    "\n",
    "# Extracting nth word\n",
    "\n",
    "# Extracting substring by position\n",
    "\n",
    "df_str_proc"
   ]
  },
  {
   "cell_type": "markdown",
   "id": "informative-administration",
   "metadata": {},
   "source": [
    "### Date functionality"
   ]
  },
  {
   "cell_type": "code",
   "execution_count": null,
   "id": "generic-meeting",
   "metadata": {},
   "outputs": [],
   "source": [
    "# change the date column in df_BILI_DM\n",
    "# df_date_func\n",
    "df_date_func=df_BILI_DM.copy()\n",
    "# BRTHDTC_dt pd.to_datetime()\n",
    "\n",
    "# today\n",
    "\n",
    "# diff/dt.days\n",
    "\n",
    "# today_Y/today_M   .dt.year/.dt.month\n",
    "\n",
    "\n",
    "df_date_func"
   ]
  },
  {
   "cell_type": "markdown",
   "id": "increasing-pilot",
   "metadata": {},
   "source": [
    "## Missing data\n",
    "Both pandas and SAS have a representation for missing data.\n",
    "\n",
    "pandas represents missing data with the special float value NaN (not a number). Many of the semantics are the same; "
   ]
  },
  {
   "cell_type": "markdown",
   "id": "laden-breeding",
   "metadata": {},
   "source": [
    "## GroupBy"
   ]
  },
  {
   "cell_type": "markdown",
   "id": "seventh-treasury",
   "metadata": {},
   "source": [
    "### Aggregation"
   ]
  },
  {
   "cell_type": "raw",
   "id": "nutritional-negotiation",
   "metadata": {},
   "source": [
    "# sas code\n",
    "proc summary data=BILI_flag nway;\n",
    "    class sex ;\n",
    "    var BILI;\n",
    "    output out=BILI_summed sum=;\n",
    "run;"
   ]
  },
  {
   "cell_type": "code",
   "execution_count": null,
   "id": "metric-somalia",
   "metadata": {},
   "outputs": [],
   "source": [
    "# grp_BILI groupby(['SEX','RACE'])['BILI'].sum()\n",
    "\n",
    "grp_BILI"
   ]
  },
  {
   "cell_type": "markdown",
   "id": "sought-pharmacy",
   "metadata": {},
   "source": [
    "### Transformation"
   ]
  },
  {
   "cell_type": "code",
   "execution_count": null,
   "id": "tired-heavy",
   "metadata": {},
   "outputs": [],
   "source": [
    "# melt\n"
   ]
  },
  {
   "cell_type": "code",
   "execution_count": null,
   "id": "breeding-collection",
   "metadata": {},
   "outputs": [],
   "source": []
  }
 ],
 "metadata": {
  "kernelspec": {
   "display_name": "Python 3 (ipykernel)",
   "language": "python",
   "name": "python3"
  },
  "language_info": {
   "codemirror_mode": {
    "name": "ipython",
    "version": 3
   },
   "file_extension": ".py",
   "mimetype": "text/x-python",
   "name": "python",
   "nbconvert_exporter": "python",
   "pygments_lexer": "ipython3",
   "version": "3.9.8"
  }
 },
 "nbformat": 4,
 "nbformat_minor": 5
}
