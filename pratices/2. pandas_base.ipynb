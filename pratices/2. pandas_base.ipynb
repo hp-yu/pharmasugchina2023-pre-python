{
 "cells": [
  {
   "cell_type": "markdown",
   "id": "printable-control",
   "metadata": {},
   "source": [
    "# Pandas\n",
    "* Pandas是使用Python语言开发的用于数据处理和数据分析的第三方库\n",
    "* Pandas的命名和熊猫无关，全称是Python Data Analysis Library"
   ]
  },
  {
   "cell_type": "code",
   "execution_count": null,
   "id": "forty-elder",
   "metadata": {},
   "outputs": [],
   "source": [
    "import numpy as np\n",
    "import pandas as pd"
   ]
  },
  {
   "cell_type": "markdown",
   "id": "young-arizona",
   "metadata": {},
   "source": [
    "## Pandas的数据结构\n",
    "* Pandas提供Series和DataFrame作为数组数据的储存框架，数据进入这2种框架后，我们就可以利用它们提供的强大处理方法进行处理"
   ]
  },
  {
   "cell_type": "markdown",
   "id": "comprehensive-particle",
   "metadata": {},
   "source": [
    "1. Series\n",
    "\n",
    "Series是一个带有标签的一维数组. 类似于带有索引的NumPy数组。每个Series都由数据和与之相关联的索引组成，可以将Series看作是一个带有标签的数组。\n",
    "\n",
    "Series is a one-dimensional labeled array capable of holding any data type (integers, strings, floating point numbers, Python objects, etc.). The axis labels are collectively referred to as the index. The basic method to create a Series is to call:\n",
    "\n",
    "s = pd.Series(data, index=index)"
   ]
  },
  {
   "cell_type": "code",
   "execution_count": null,
   "id": "bright-subsection",
   "metadata": {},
   "outputs": [],
   "source": [
    "#s input from a list\n"
   ]
  },
  {
   "cell_type": "code",
   "execution_count": null,
   "id": "flush-howard",
   "metadata": {},
   "outputs": [],
   "source": [
    "#s1 input from a dict\n"
   ]
  },
  {
   "cell_type": "markdown",
   "id": "revised-tsunami",
   "metadata": {},
   "source": [
    "2. DataFrame\n",
    "\n",
    "DataFrame意为数据框，是Pandas定义的一个二维数据结构，类似于Excel表格或SQL表。DataFrame由多个Series组成，每个Series代表一列数据，每列可以有不同的数据类型。DataFrame可以看作是一个多维标签化数组，每行和每列都有对应的标签。\n",
    "\n",
    "DataFrame is a 2-dimensional labeled data structure with columns of potentially different types. You can think of it like a spreadsheet or SQL table, or a dict of Series objects. It is generally the most commonly used pandas object. Like Series, DataFrame accepts many different kinds of input:\n",
    "\n",
    "* Dict of 1D ndarrays, lists, dicts, or Series\n",
    "\n",
    "* 2-D numpy.ndarray\n",
    "\n",
    "* Structured or record ndarray\n",
    "\n",
    "* A Series\n",
    "\n",
    "* Another DataFrame\n",
    "\n",
    "<img src=\"./picture/dataframe_1.PNG\" width=320 height=240>"
   ]
  },
  {
   "cell_type": "code",
   "execution_count": null,
   "id": "isolated-night",
   "metadata": {},
   "outputs": [],
   "source": [
    "# df from dict of ndarrays / lists\n"
   ]
  },
  {
   "cell_type": "markdown",
   "id": "functioning-machine",
   "metadata": {},
   "source": [
    "## Each column in a DataFrame is a Series"
   ]
  },
  {
   "cell_type": "code",
   "execution_count": null,
   "id": "decent-tourist",
   "metadata": {},
   "outputs": [],
   "source": [
    "# df['subject']\n"
   ]
  },
  {
   "cell_type": "code",
   "execution_count": null,
   "id": "convenient-conversation",
   "metadata": {},
   "outputs": [],
   "source": [
    "#type\n"
   ]
  },
  {
   "cell_type": "code",
   "execution_count": null,
   "id": "377a8f04-7fbb-4d40-9af1-835e0f516f6f",
   "metadata": {},
   "outputs": [],
   "source": []
  }
 ],
 "metadata": {
  "kernelspec": {
   "display_name": "Python 3 (ipykernel)",
   "language": "python",
   "name": "python3"
  },
  "language_info": {
   "codemirror_mode": {
    "name": "ipython",
    "version": 3
   },
   "file_extension": ".py",
   "mimetype": "text/x-python",
   "name": "python",
   "nbconvert_exporter": "python",
   "pygments_lexer": "ipython3",
   "version": "3.9.8"
  }
 },
 "nbformat": 4,
 "nbformat_minor": 5
}
