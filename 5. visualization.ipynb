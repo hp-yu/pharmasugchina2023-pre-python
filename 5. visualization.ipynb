{
 "cells": [
  {
   "cell_type": "markdown",
   "id": "annual-component",
   "metadata": {
    "tags": []
   },
   "source": [
    "# Visualization"
   ]
  },
  {
   "cell_type": "markdown",
   "id": "conventional-analysis",
   "metadata": {},
   "source": [
    "## Visualization Solutions\n",
    "* Commercial Visualization Analysis Tools/Platforms\n",
    "    * Tableau\n",
    "    * TBICO Spotfire\n",
    "    * Microsoft Power BI\n",
    "    * SAS JMP\n",
    "\n",
    "* Open-Source Visualization Tools\n",
    "    * R Shiny\n",
    "    * Python Data Visualization Libraries"
   ]
  },
  {
   "cell_type": "markdown",
   "id": "front-victory",
   "metadata": {},
   "source": [
    "\n",
    "<img src=\"./picture/visualization_1.PNG\" width=680 height=240>"
   ]
  },
  {
   "cell_type": "markdown",
   "id": "asian-inquiry",
   "metadata": {
    "tags": []
   },
   "source": [
    "* The above image is excerpted from the presentation \"The Python Visualization Landscape\" at PyCon 2017.\n",
    "\n",
    "* Python visualization libraries can be roughly categorized into several types:\n",
    "\n",
    "    * Matplotlib-based visualization libraries (matplotlib, seaborn)\n",
    "\n",
    "    * JS-based visualization libraries (bokeh, plotly)\n",
    "\n",
    "    * Libraries based on a combination of the above two or other functionalities."
   ]
  },
  {
   "cell_type": "markdown",
   "id": "46316c2e-377b-4505-abab-4866e8235977",
   "metadata": {},
   "source": [
    "* Comparison of Commercial Visualization Software and Python Visualization Libraries:\n",
    "\n",
    "* Commercial Visualization Software Advantages:\n",
    "\n",
    "    * User-friendly with no programming experience required.\n",
    "    * Offers diverse visual styles and effects.\n",
    "    * Emphasizes interactivity for efficient data exploration.\n",
    "    * Optimized for handling large datasets.\n",
    "\n",
    "* Python Visualization Libraries Advantages:\n",
    "\n",
    "    * Highly customizable with precise chart control.\n",
    "    * Seamlessly integrates with data processing and analysis in Python.\n",
    "    * Supported by a vibrant open-source community.\n",
    "    * Scalable by integrating with other Python libraries.\n",
    "\n",
    "* Disadvantages:\n",
    "\n",
    "    * Commercial software may be costly and dependent on updates.\n",
    "    * Python libraries may have a learning curve for non-programmers and slower performance with large datasets.\n",
    "\n",
    "Choice depends on user expertise, project needs, and budget considerations."
   ]
  },
  {
   "cell_type": "markdown",
   "id": "pediatric-northwest",
   "metadata": {},
   "source": [
    "## Bokeh\n",
    "\n",
    "https://bokeh.org/"
   ]
  },
  {
   "cell_type": "markdown",
   "id": "77d69c15-f25f-4220-aa4b-15be33871959",
   "metadata": {},
   "source": [
    "## Output options\n",
    "* Jupyter\n",
    "\n",
    "* Web pages\n",
    "\n",
    "* PNG and SVG export\n",
    "\n",
    "* WebGL acceleration"
   ]
  },
  {
   "cell_type": "code",
   "execution_count": 1,
   "id": "5e1d790e-64aa-4f4b-ba26-57403a7f4356",
   "metadata": {},
   "outputs": [],
   "source": [
    "import numpy as np\n",
    "\n",
    "from bokeh.layouts import column, grid\n",
    "from bokeh.models import ColumnDataSource, CustomJS, Slider\n",
    "from bokeh.plotting import figure, show\n",
    "\n",
    "\n",
    "def bollinger():\n",
    "    upperband = np.random.randint(100, 150+1, size=100)\n",
    "    lowerband = upperband - 100\n",
    "    x_data = np.arange(1, 101)\n",
    "\n",
    "    band_x = np.append(x_data, x_data[::-1])\n",
    "    band_y = np.append(lowerband, upperband[::-1])\n",
    "\n",
    "    p = figure(width=800, height=600, x_axis_type='datetime', tools='pan')\n",
    "    p.patch(band_x, band_y, color='#7570B3', fill_alpha=0.2)\n",
    "\n",
    "    p.title.text = 'Bollinger Bands'\n",
    "    p.title_location = 'left'\n",
    "    p.title.align = 'left'\n",
    "    p.grid.grid_line_alpha = 0.4\n",
    "\n",
    "    return [p]\n",
    "\n",
    "\n",
    "def slider():\n",
    "    x = np.linspace(0, 10, 100)\n",
    "    y = np.sin(x)\n",
    "\n",
    "    source = ColumnDataSource(data=dict(x=x, y=y))\n",
    "\n",
    "    plot = figure(y_range=(-10, 10), tools='', toolbar_location=None,\n",
    "                  title=\"Sliders example\")\n",
    "    plot.line('x', 'y', source=source, line_width=3, line_alpha=0.6)\n",
    "\n",
    "    amp = Slider(start=0.1, end=10, value=1, step=.1, title=\"Amplitude\")\n",
    "    freq = Slider(start=0.1, end=10, value=1, step=.1, title=\"Frequency\")\n",
    "    phase = Slider(start=0, end=6.4, value=0, step=.1, title=\"Phase\")\n",
    "    offset = Slider(start=-5, end=5, value=0, step=.1, title=\"Offset\")\n",
    "\n",
    "    callback = CustomJS(args=dict(source=source, amp=amp, freq=freq, phase=phase, offset=offset),\n",
    "                        code=\"\"\"\n",
    "        const A = amp.value\n",
    "        const k = freq.value\n",
    "        const phi = phase.value\n",
    "        const B = offset.value\n",
    "\n",
    "        const x = source.data.x\n",
    "        const y = Array.from(x, (x) => B + A*Math.sin(k*x+phi))\n",
    "        source.data = {x, y}\n",
    "    \"\"\")\n",
    "\n",
    "    amp.js_on_change('value', callback)\n",
    "    freq.js_on_change('value', callback)\n",
    "    phase.js_on_change('value', callback)\n",
    "    offset.js_on_change('value', callback)\n",
    "\n",
    "    widgets = column(amp, freq, phase, offset, sizing_mode=\"stretch_width\")\n",
    "\n",
    "    return [widgets, plot]\n",
    "\n",
    "\n",
    "def linked_panning():\n",
    "    x = np.linspace(0, 4 * np.pi, 100)\n",
    "    y1 = np.sin(x)\n",
    "    y2 = np.cos(x)\n",
    "    y3 = np.sin(x) + np.cos(x)\n",
    "\n",
    "    s1 = figure(tools='pan')\n",
    "    s1.circle(x, y1, color=\"navy\", size=8, alpha=0.5)\n",
    "\n",
    "    s2 = figure(tools='pan', x_range=s1.x_range, y_range=s1.y_range)\n",
    "    s2.circle(x, y2, color=\"firebrick\", size=8, alpha=0.5)\n",
    "\n",
    "    s3 = figure(tools='pan, box_select', x_range=s1.x_range)\n",
    "    s3.circle(x, y3, color=\"olive\", size=8, alpha=0.5)\n",
    "\n",
    "    return [s1, s2, s3]\n",
    "\n",
    "l = grid([bollinger(), slider(), linked_panning()],\n",
    "         sizing_mode='stretch_both')\n",
    "\n",
    "show(l)"
   ]
  },
  {
   "cell_type": "markdown",
   "id": "contemporary-hamilton",
   "metadata": {},
   "source": [
    "## Sample\n",
    "\n",
    "The FDA Reviewers’ Helper --- eDISH\n",
    "\n",
    "--- an analytical tool, software program\n",
    "\n",
    "(evaluation of Drug-Induced Serious Hepatotoxicity)"
   ]
  },
  {
   "cell_type": "markdown",
   "id": "coordinate-facility",
   "metadata": {},
   "source": [
    "<img src=\"./picture/visualization_2.PNG\" width=680 height=240>"
   ]
  },
  {
   "cell_type": "code",
   "execution_count": null,
   "id": "ededf647-abb5-4701-8ac3-fee37107f573",
   "metadata": {},
   "outputs": [],
   "source": []
  }
 ],
 "metadata": {
  "kernelspec": {
   "display_name": "Python 3 (ipykernel)",
   "language": "python",
   "name": "python3"
  },
  "language_info": {
   "codemirror_mode": {
    "name": "ipython",
    "version": 3
   },
   "file_extension": ".py",
   "mimetype": "text/x-python",
   "name": "python",
   "nbconvert_exporter": "python",
   "pygments_lexer": "ipython3",
   "version": "3.9.8"
  }
 },
 "nbformat": 4,
 "nbformat_minor": 5
}
